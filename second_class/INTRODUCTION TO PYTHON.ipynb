{
 "cells": [
  {
   "cell_type": "markdown",
   "metadata": {
    "id": "gXM49_S8U6wh"
   },
   "source": [
    "# PYTHON PROGRAMMING\n",
    "\n",
    "## 1. COMMENTS\n",
    "\n",
    "1. Comments can be used to explain Python code.\n",
    "2. Comments can be used to make the code more readable.\n",
    "3. Comments can be used to prevent execution when testing code.\n",
    "\n",
    "Comments starts with a #, and Python will ignore them:\n",
    "\n",
    "#This is a comment\n",
    "\n",
    "print(\"Hello, World!\")"
   ]
  },
  {
   "cell_type": "code",
   "execution_count": 58,
   "metadata": {
    "colab": {
     "base_uri": "https://localhost:8080/"
    },
    "executionInfo": {
     "elapsed": 487,
     "status": "ok",
     "timestamp": 1695542055415,
     "user": {
      "displayName": "Mohammad Hashir Bin Khalid",
      "userId": "00915420636884860203"
     },
     "user_tz": -300
    },
    "id": "TP4oFbP1V--U",
    "outputId": "d70823e2-ec4b-4b46-d774-ff989ade0fe8"
   },
   "outputs": [
    {
     "name": "stdout",
     "output_type": "stream",
     "text": [
      "Hello, World!\n",
      "Hello, World2!\n"
     ]
    }
   ],
   "source": [
    "print(\"Hello, World!\")\n",
    "print(\"Hello, World2!\")"
   ]
  },
  {
   "cell_type": "code",
   "execution_count": 59,
   "metadata": {
    "colab": {
     "base_uri": "https://localhost:8080/"
    },
    "executionInfo": {
     "elapsed": 477,
     "status": "ok",
     "timestamp": 1695541866073,
     "user": {
      "displayName": "Mohammad Hashir Bin Khalid",
      "userId": "00915420636884860203"
     },
     "user_tz": -300
    },
    "id": "oxkJFHdeK0fM",
    "outputId": "85772fc6-067b-46f5-9ecc-104972ad2a7e"
   },
   "outputs": [
    {
     "data": {
      "text/plain": [
       "4"
      ]
     },
     "execution_count": 59,
     "metadata": {},
     "output_type": "execute_result"
    }
   ],
   "source": [
    "2*2"
   ]
  },
  {
   "cell_type": "markdown",
   "metadata": {
    "id": "JZvFzd4RU6wk"
   },
   "source": [
    "## 2. CREATING VARIABLES\n",
    "\n",
    "Variables are containers for storing data values.\n",
    "\n",
    "Unlike other programming languages, Python has no command for declaring a variable.\n",
    "\n",
    "A variable is created the moment you first assign a value to it.\n",
    "\n",
    "EXAMPLE:\n",
    "\n",
    "x = 5\n",
    "\n",
    "y = \"John\"\n",
    "\n",
    "print(x)\n",
    "\n",
    "print(y)"
   ]
  },
  {
   "cell_type": "code",
   "execution_count": 60,
   "metadata": {
    "id": "PpVra80QU6wk"
   },
   "outputs": [],
   "source": [
    "x = 2"
   ]
  },
  {
   "cell_type": "code",
   "execution_count": 61,
   "metadata": {
    "id": "8ZBcoytSU6wl"
   },
   "outputs": [
    {
     "name": "stdout",
     "output_type": "stream",
     "text": [
      "Arsalan Grade B\n"
     ]
    }
   ],
   "source": [
    "d = \"Arsalan \"\n",
    "e = \"Grade B\"\n",
    "\n",
    "print (d+e)"
   ]
  },
  {
   "cell_type": "code",
   "execution_count": 62,
   "metadata": {
    "colab": {
     "base_uri": "https://localhost:8080/"
    },
    "executionInfo": {
     "elapsed": 5,
     "status": "ok",
     "timestamp": 1708809868093,
     "user": {
      "displayName": "Wajahat Ahmed",
      "userId": "11071514131681018838"
     },
     "user_tz": -300
    },
    "id": "Cxhc0TmWU6wl",
    "outputId": "653da1aa-e6eb-4fd7-ba75-6d5fdafb0bd7"
   },
   "outputs": [
    {
     "name": "stdout",
     "output_type": "stream",
     "text": [
      "5 x 1 = 5\n",
      "5 x 2 = 10\n",
      "5 x 3 = 15\n",
      "5 x 4 = 20\n",
      "5 x 5 = 25\n",
      "5 x 6 = 30\n",
      "5 x 7 = 35\n",
      "5 x 8 = 40\n",
      "5 x 9 = 45\n",
      "5 x 10 = 50\n"
     ]
    }
   ],
   "source": [
    "for x in range (1,11):\n",
    "    q= 5*x\n",
    "    print (\"5 x \" + str(x) + \" = \" + str(q))"
   ]
  },
  {
   "cell_type": "code",
   "execution_count": 63,
   "metadata": {},
   "outputs": [],
   "source": [
    "a = ['green', \"orabge\",[12,1,2,3],8,9]"
   ]
  },
  {
   "cell_type": "markdown",
   "metadata": {
    "id": "FIHn2jYJU6wl"
   },
   "source": [
    "## 3. LIST\n",
    "\n",
    "A list is a collection which is ordered and changeable. In Python lists are written with square brackets.\n",
    "\n",
    "##### SIMPLE LIST:\n",
    "\n",
    "thislist = [\"apple\", \"banana\", \"cherry\"] <br>\n",
    "print(thislist)\n"
   ]
  },
  {
   "cell_type": "code",
   "execution_count": 64,
   "metadata": {
    "id": "ZZvlQ3ZVU6wm"
   },
   "outputs": [
    {
     "data": {
      "text/plain": [
       "['a', 'e', 'i', 'o', 'u']"
      ]
     },
     "execution_count": 64,
     "metadata": {},
     "output_type": "execute_result"
    }
   ],
   "source": [
    "vowels = ['a','e','i','o','u']\n",
    "vowels"
   ]
  },
  {
   "cell_type": "code",
   "execution_count": 65,
   "metadata": {
    "id": "O1t7b5TDU6wm"
   },
   "outputs": [
    {
     "data": {
      "text/plain": [
       "['apple', 'banana', 'cherry']"
      ]
     },
     "execution_count": 65,
     "metadata": {},
     "output_type": "execute_result"
    }
   ],
   "source": [
    "thislist = [\"apple\", \"banana\", \"cherry\"]\n",
    "thislist"
   ]
  },
  {
   "cell_type": "markdown",
   "metadata": {
    "id": "SOw3kyQaU6wm"
   },
   "source": [
    "##### NESTED LIST (LIST OF LISTS):\n",
    "\n",
    "Also, a list can even have another list as an item. This is called nested list.\n",
    "\n",
    "thislist = [\"mouse\", [8, 4, 6], ['a']]<br>\n",
    "print(thislist)"
   ]
  },
  {
   "cell_type": "code",
   "execution_count": 66,
   "metadata": {
    "colab": {
     "base_uri": "https://localhost:8080/"
    },
    "executionInfo": {
     "elapsed": 23,
     "status": "ok",
     "timestamp": 1708809889237,
     "user": {
      "displayName": "Wajahat Ahmed",
      "userId": "11071514131681018838"
     },
     "user_tz": -300
    },
    "id": "dk8nHChxU6wn",
    "outputId": "4af1db9c-baad-4294-d925-0dac8b2a7a6f"
   },
   "outputs": [
    {
     "name": "stdout",
     "output_type": "stream",
     "text": [
      "['mouse', [8, 4, 6], ['a']]\n"
     ]
    }
   ],
   "source": [
    "thislist = [\"mouse\", [8, 4, 6], ['a']]\n",
    "print(thislist)"
   ]
  },
  {
   "cell_type": "code",
   "execution_count": 67,
   "metadata": {
    "colab": {
     "base_uri": "https://localhost:8080/"
    },
    "executionInfo": {
     "elapsed": 2,
     "status": "ok",
     "timestamp": 1708809890215,
     "user": {
      "displayName": "Wajahat Ahmed",
      "userId": "11071514131681018838"
     },
     "user_tz": -300
    },
    "id": "QbhsxLwMU6wn",
    "outputId": "02d28bab-3a56-400d-ecd4-51c8007ea6f6"
   },
   "outputs": [
    {
     "data": {
      "text/plain": [
       "['blue', 'green', 'black', [1, 2, 3, 4, 5], 'red', 'orange']"
      ]
     },
     "execution_count": 67,
     "metadata": {},
     "output_type": "execute_result"
    }
   ],
   "source": [
    "colors = ['blue','green','black',[1,2,3,4,5],'red','orange']\n",
    "colors"
   ]
  },
  {
   "cell_type": "markdown",
   "metadata": {
    "id": "wNRtYaGRU6wn"
   },
   "source": [
    "### (a) Access Items\n",
    "\n",
    "You access the list items by referring to the index number:\n",
    "\n",
    "EXAMPLE:\n",
    "\n",
    "thislist = [\"apple\", \"banana\", \"cherry\"]\n",
    "\n",
    "print(thislist[1])"
   ]
  },
  {
   "cell_type": "code",
   "execution_count": 68,
   "metadata": {
    "colab": {
     "base_uri": "https://localhost:8080/",
     "height": 35
    },
    "executionInfo": {
     "elapsed": 6,
     "status": "ok",
     "timestamp": 1708809893761,
     "user": {
      "displayName": "Wajahat Ahmed",
      "userId": "11071514131681018838"
     },
     "user_tz": -300
    },
    "id": "R7pz_A8eU6wn",
    "outputId": "fc0a280e-0b78-4d80-c8a7-998bdf84b359"
   },
   "outputs": [
    {
     "data": {
      "text/plain": [
       "'green'"
      ]
     },
     "execution_count": 68,
     "metadata": {},
     "output_type": "execute_result"
    }
   ],
   "source": [
    "colors[1]"
   ]
  },
  {
   "cell_type": "code",
   "execution_count": 69,
   "metadata": {
    "colab": {
     "base_uri": "https://localhost:8080/",
     "height": 35
    },
    "executionInfo": {
     "elapsed": 6,
     "status": "ok",
     "timestamp": 1708809917248,
     "user": {
      "displayName": "Wajahat Ahmed",
      "userId": "11071514131681018838"
     },
     "user_tz": -300
    },
    "id": "-3ldzhgZU6wn",
    "outputId": "6fc13120-853d-4a1f-9ac2-7b44c5b1975a"
   },
   "outputs": [
    {
     "data": {
      "text/plain": [
       "'red'"
      ]
     },
     "execution_count": 69,
     "metadata": {},
     "output_type": "execute_result"
    }
   ],
   "source": [
    "colors[4]"
   ]
  },
  {
   "cell_type": "code",
   "execution_count": 70,
   "metadata": {
    "colab": {
     "base_uri": "https://localhost:8080/"
    },
    "executionInfo": {
     "elapsed": 2,
     "status": "ok",
     "timestamp": 1708810131806,
     "user": {
      "displayName": "Wajahat Ahmed",
      "userId": "11071514131681018838"
     },
     "user_tz": -300
    },
    "id": "F4C8kxtCAfJO",
    "outputId": "04b7514d-91d2-4991-8af3-5902eca0070b"
   },
   "outputs": [
    {
     "data": {
      "text/plain": [
       "2"
      ]
     },
     "execution_count": 70,
     "metadata": {},
     "output_type": "execute_result"
    }
   ],
   "source": [
    "# !pip install numpy\n",
    "# import numpy as np\n",
    "colors[3][1]"
   ]
  },
  {
   "cell_type": "markdown",
   "metadata": {
    "id": "pTJ52qQ4U6wn"
   },
   "source": [
    "### (b) Negative Indexing\n",
    "\n",
    "Negative indexing means beginning from the end, -1 refers to the last item, -2 refers to the second last item etc.\n",
    "\n",
    "EXAMPLE:\n",
    "\n",
    "thislist = [\"apple\", \"banana\", \"cherry\"]\n",
    "\n",
    "print(thislist[-1])"
   ]
  },
  {
   "cell_type": "code",
   "execution_count": 71,
   "metadata": {
    "id": "ID_iPxpnU6wn"
   },
   "outputs": [
    {
     "data": {
      "text/plain": [
       "'j'"
      ]
     },
     "execution_count": 71,
     "metadata": {},
     "output_type": "execute_result"
    }
   ],
   "source": [
    "alphabet = ['a','b','c','d','e','f','g','h','i','j']\n",
    "alphabet[-1]"
   ]
  },
  {
   "cell_type": "markdown",
   "metadata": {
    "id": "6hMQ9jrMU6wo"
   },
   "source": [
    "### (c) Range of Indexes\n",
    "\n",
    "You can specify a range of indexes by specifying where to start and where to end the range.\n",
    "\n",
    "When specifying a range, the return value will be a new list with the specified items.\n",
    "\n",
    "##### EXAMPLE:\n",
    "\n",
    "thislist = [\"apple\", \"banana\", \"cherry\", \"orange\", \"kiwi\", \"melon\", \"mango\"]\n",
    "\n",
    "print(thislist[2:5])"
   ]
  },
  {
   "cell_type": "code",
   "execution_count": 72,
   "metadata": {
    "colab": {
     "base_uri": "https://localhost:8080/"
    },
    "executionInfo": {
     "elapsed": 1576,
     "status": "ok",
     "timestamp": 1708810162279,
     "user": {
      "displayName": "Wajahat Ahmed",
      "userId": "11071514131681018838"
     },
     "user_tz": -300
    },
    "id": "YzLRuFVbU6wo",
    "outputId": "5228ba50-6182-4f18-ce7a-66a7d78df5ca"
   },
   "outputs": [
    {
     "data": {
      "text/plain": [
       "['black', [1, 2, 3, 4, 5], 'red']"
      ]
     },
     "execution_count": 72,
     "metadata": {},
     "output_type": "execute_result"
    }
   ],
   "source": [
    "colors[2:5]"
   ]
  },
  {
   "cell_type": "code",
   "execution_count": 73,
   "metadata": {
    "colab": {
     "base_uri": "https://localhost:8080/"
    },
    "executionInfo": {
     "elapsed": 3,
     "status": "ok",
     "timestamp": 1708810165803,
     "user": {
      "displayName": "Wajahat Ahmed",
      "userId": "11071514131681018838"
     },
     "user_tz": -300
    },
    "id": "FS9xKaZkU6wo",
    "outputId": "c3914861-3867-46cf-fdfb-61518860d4c3"
   },
   "outputs": [
    {
     "data": {
      "text/plain": [
       "['black', [1, 2, 3, 4, 5]]"
      ]
     },
     "execution_count": 73,
     "metadata": {},
     "output_type": "execute_result"
    }
   ],
   "source": [
    "colors[2:-2]"
   ]
  },
  {
   "cell_type": "markdown",
   "metadata": {
    "id": "hidzQ-O8U6wo"
   },
   "source": [
    "### (d) Change Item Value\n",
    "\n",
    "To change the value of a specific item, refer to the index number:\n",
    "\n",
    "##### EXAMPLE:\n",
    "\n",
    "thislist = [\"apple\", \"banana\", \"cherry\"] <br>\n",
    "thislist[1] = \"blackcurrant\" <br>\n",
    "print(thislist)<br>"
   ]
  },
  {
   "cell_type": "code",
   "execution_count": 74,
   "metadata": {
    "colab": {
     "base_uri": "https://localhost:8080/"
    },
    "executionInfo": {
     "elapsed": 489,
     "status": "ok",
     "timestamp": 1708810200768,
     "user": {
      "displayName": "Wajahat Ahmed",
      "userId": "11071514131681018838"
     },
     "user_tz": -300
    },
    "id": "1IpE_zQSU6wo",
    "outputId": "0e40f3c4-8498-42d6-f30b-dd7dd55ada89"
   },
   "outputs": [
    {
     "data": {
      "text/plain": [
       "['a', 'b', 'c', 'd', 'z', 'f', 'g', 'h', 'i', 'j']"
      ]
     },
     "execution_count": 74,
     "metadata": {},
     "output_type": "execute_result"
    }
   ],
   "source": [
    "alphabet = ['a','b','c','d','e','f','g','h','i','j']\n",
    "alphabet[4] = 'z'\n",
    "alphabet"
   ]
  },
  {
   "cell_type": "markdown",
   "metadata": {
    "id": "SBPPczOJU6wo"
   },
   "source": [
    "### (e) Add Items\n",
    "\n",
    "To add an item to the end of the list, use the append() method:\n",
    "\n",
    "##### EXAMPLE:\n",
    "\n",
    "thislist = [\"apple\", \"banana\", \"cherry\"] <br>\n",
    "thislist.append(\"orange\")<br>\n",
    "print(thislist)<br>"
   ]
  },
  {
   "cell_type": "code",
   "execution_count": 75,
   "metadata": {
    "colab": {
     "base_uri": "https://localhost:8080/"
    },
    "executionInfo": {
     "elapsed": 335,
     "status": "ok",
     "timestamp": 1708810226277,
     "user": {
      "displayName": "Wajahat Ahmed",
      "userId": "11071514131681018838"
     },
     "user_tz": -300
    },
    "id": "XDE8Dsd6U6wo",
    "outputId": "e9a48692-4991-471d-f337-7f423cc5ff57"
   },
   "outputs": [
    {
     "data": {
      "text/plain": [
       "['a', 'b', 'c', 'd', 'z', 'f', 'g', 'h', 'i', 'j', 'k']"
      ]
     },
     "execution_count": 75,
     "metadata": {},
     "output_type": "execute_result"
    }
   ],
   "source": [
    "alphabet[4] = 'z'\n",
    "alphabet.append('k')\n",
    "alphabet"
   ]
  },
  {
   "cell_type": "code",
   "execution_count": 76,
   "metadata": {},
   "outputs": [
    {
     "name": "stdout",
     "output_type": "stream",
     "text": [
      "[1, 2, 3, 4, 5, 6, 7, 8, 'M', 'u', 'h', 'a', 'm', 'm', 'd', ' ', 'S', 'a', 'j', 'i', 'd']\n"
     ]
    }
   ],
   "source": [
    "saado = [1,2,3,4,5,6,7,8]\n",
    "sajid = \"Muhammd Sajid\"\n",
    "saado.extend(sajid)\n",
    "print(saado)"
   ]
  },
  {
   "cell_type": "code",
   "execution_count": 77,
   "metadata": {},
   "outputs": [
    {
     "ename": "SyntaxError",
     "evalue": "unterminated string literal (detected at line 1) (118042490.py, line 1)",
     "output_type": "error",
     "traceback": [
      "\u001b[1;36m  Cell \u001b[1;32mIn[77], line 1\u001b[1;36m\u001b[0m\n\u001b[1;33m    a = (1,2,\"saad ehsan')\u001b[0m\n\u001b[1;37m             ^\u001b[0m\n\u001b[1;31mSyntaxError\u001b[0m\u001b[1;31m:\u001b[0m unterminated string literal (detected at line 1)\n"
     ]
    }
   ],
   "source": [
    "a = (1,2,\"saad ehsan')\n",
    "a"
   ]
  },
  {
   "cell_type": "code",
   "execution_count": null,
   "metadata": {
    "colab": {
     "base_uri": "https://localhost:8080/"
    },
    "executionInfo": {
     "elapsed": 4,
     "status": "ok",
     "timestamp": 1708810287570,
     "user": {
      "displayName": "Wajahat Ahmed",
      "userId": "11071514131681018838"
     },
     "user_tz": -300
    },
    "id": "FaXz1Qa1Bwrx",
    "outputId": "8db49de0-7215-4aba-fc67-0f9e8701d111"
   },
   "outputs": [],
   "source": [
    "alphabet3 = ['1','2','3','4','5']\n",
    "alphabet.append(alphabet3)\n",
    "alphabet"
   ]
  },
  {
   "cell_type": "code",
   "execution_count": null,
   "metadata": {},
   "outputs": [],
   "source": [
    "myMap = {\n",
    "    'math' : 100,\n",
    "    'eng' : 200,\n",
    "    'chem' : 300,\n",
    "}\n",
    "\n",
    "for i in myMap:\n",
    "    print(i)"
   ]
  },
  {
   "cell_type": "code",
   "execution_count": null,
   "metadata": {
    "colab": {
     "base_uri": "https://localhost:8080/"
    },
    "executionInfo": {
     "elapsed": 354,
     "status": "ok",
     "timestamp": 1708810218327,
     "user": {
      "displayName": "Wajahat Ahmed",
      "userId": "11071514131681018838"
     },
     "user_tz": -300
    },
    "id": "py7WjbTlU6wo",
    "outputId": "c51ceb48-9dbd-4536-d864-9adc5dae887b"
   },
   "outputs": [],
   "source": [
    "alphabet2 = ['k','l','m','n','o']\n",
    "alphabet.extend(alphabet2)\n",
    "alphabet"
   ]
  },
  {
   "cell_type": "markdown",
   "metadata": {
    "id": "erajHMH9U6wo"
   },
   "source": [
    "### (g) Copy a List\n",
    "\n",
    "You cannot copy a list simply by typing list2 = list1, because: list2 will only be a reference to list1, and changes made in list1 will automatically also be made in list2.\n",
    "\n",
    "There are ways to make a copy, one way is to use the built-in List method copy().\n",
    "\n",
    "##### EXAMPLE:\n",
    "thislist = [\"apple\", \"banana\", \"cherry\"]<br>\n",
    "mylist = thislist.copy()<br>\n",
    "print(mylist)"
   ]
  },
  {
   "cell_type": "code",
   "execution_count": null,
   "metadata": {
    "id": "N2nAi2hnU6wp"
   },
   "outputs": [],
   "source": [
    "alphabet1 = ['a','b','c','d','e','f','g','h','i','j']\n",
    "alphabet2 = alphabet1.copy()\n",
    "alphabet2"
   ]
  },
  {
   "cell_type": "markdown",
   "metadata": {
    "id": "p0LIMWfYU6wp"
   },
   "source": [
    "## 4. TUPLES\n",
    "\n",
    "A tuple is a collection which is ordered and unchangeable. In Python tuples are written with round brackets.\n",
    "\n",
    "### DIFFERENCE BETWEEN LISTS AND TUPLES:\n",
    "\n",
    "The main difference between lists and a tuples is the fact that lists are mutable whereas tuples are immutable. A mutable data type means that a python object of this type can be modified. An immutable object can't.\n",
    "\n",
    "##### EXAMPLE:\n",
    "\n",
    "thistuple = (\"apple\", \"banana\", \"cherry\")<br>\n",
    "print(thistuple)"
   ]
  },
  {
   "cell_type": "code",
   "execution_count": null,
   "metadata": {
    "id": "qZT6USFwU6wp"
   },
   "outputs": [],
   "source": [
    "alphabet1 = ('a','b','c','d','e','f','g','h','i','j')"
   ]
  },
  {
   "cell_type": "markdown",
   "metadata": {
    "id": "U9IRbaBqU6wp"
   },
   "source": [
    "### (a) Access Tuple Items\n",
    "\n",
    "You can access tuple items by referring to the index number, inside square brackets:<br>\n",
    "thistuple = (\"apple\", \"banana\", \"cherry\")<br>\n",
    "print(thistuple[1])"
   ]
  },
  {
   "cell_type": "code",
   "execution_count": null,
   "metadata": {
    "colab": {
     "base_uri": "https://localhost:8080/",
     "height": 35
    },
    "executionInfo": {
     "elapsed": 388,
     "status": "ok",
     "timestamp": 1708810335051,
     "user": {
      "displayName": "Wajahat Ahmed",
      "userId": "11071514131681018838"
     },
     "user_tz": -300
    },
    "id": "eX5aWM1DU6wp",
    "outputId": "6fb83a5a-4e16-4c2c-8bb4-5893a656f30b"
   },
   "outputs": [],
   "source": [
    "alphabet1[0]"
   ]
  },
  {
   "cell_type": "code",
   "execution_count": null,
   "metadata": {
    "id": "Hf9VWWZlU6wp"
   },
   "outputs": [],
   "source": [
    "import numpy as np"
   ]
  },
  {
   "cell_type": "markdown",
   "metadata": {
    "id": "v1hWElvrU6wp"
   },
   "source": [
    "# 5. PYTHON MODULES\n",
    "\n",
    "## (A) Numpy\n",
    "\n",
    "* Numpy is the backbone of Machine Learning in Python.\n",
    "* It is one of the most important libraries in Python for numerical computations.\n",
    "* It adds support to core Python for multi-dimensional arrays (and matrices) and fast vectorized operations on these arrays.\n",
    "\n",
    "##### EXAMPLE:\n",
    "\n",
    "import numpy as np\n",
    "\n",
    "arr = np.array([1,3,4,5,6])\n",
    "\n",
    "print(arr)"
   ]
  },
  {
   "cell_type": "code",
   "execution_count": null,
   "metadata": {},
   "outputs": [],
   "source": [
    "sajid = np.arange(100000)\n",
    "print(sajid)"
   ]
  },
  {
   "cell_type": "code",
   "execution_count": null,
   "metadata": {
    "colab": {
     "base_uri": "https://localhost:8080/"
    },
    "executionInfo": {
     "elapsed": 338,
     "status": "ok",
     "timestamp": 1708810349318,
     "user": {
      "displayName": "Wajahat Ahmed",
      "userId": "11071514131681018838"
     },
     "user_tz": -300
    },
    "id": "IeAziNCiU6wp",
    "outputId": "a4e8cc19-ccd0-4971-8d01-844d844d6c6f"
   },
   "outputs": [],
   "source": [
    "import numpy as np\n",
    "arr = np.array([1,3,4,5,6])\n",
    "print(arr)"
   ]
  },
  {
   "cell_type": "code",
   "execution_count": null,
   "metadata": {
    "colab": {
     "base_uri": "https://localhost:8080/"
    },
    "executionInfo": {
     "elapsed": 454,
     "status": "ok",
     "timestamp": 1708810355732,
     "user": {
      "displayName": "Wajahat Ahmed",
      "userId": "11071514131681018838"
     },
     "user_tz": -300
    },
    "id": "q0tId345U6wp",
    "outputId": "7d6af4c4-14f1-4502-c119-f99a5e11e96e"
   },
   "outputs": [],
   "source": [
    "arr.shape"
   ]
  },
  {
   "cell_type": "markdown",
   "metadata": {
    "id": "gU5NIEXbU6wp"
   },
   "source": [
    "arr = np.arange(10)"
   ]
  },
  {
   "cell_type": "code",
   "execution_count": null,
   "metadata": {
    "colab": {
     "base_uri": "https://localhost:8080/"
    },
    "executionInfo": {
     "elapsed": 435,
     "status": "ok",
     "timestamp": 1709722151264,
     "user": {
      "displayName": "Wajahat Ahmed",
      "userId": "11071514131681018838"
     },
     "user_tz": -300
    },
    "id": "JKXj2JmdU6wp",
    "outputId": "ef787b5d-7893-4879-9832-0c79f0af9f65"
   },
   "outputs": [],
   "source": [
    "import numpy as np\n",
    "arr= np.arange(50)\n",
    "print(arr)"
   ]
  },
  {
   "cell_type": "code",
   "execution_count": null,
   "metadata": {
    "colab": {
     "base_uri": "https://localhost:8080/"
    },
    "executionInfo": {
     "elapsed": 392,
     "status": "ok",
     "timestamp": 1709722336089,
     "user": {
      "displayName": "Wajahat Ahmed",
      "userId": "11071514131681018838"
     },
     "user_tz": -300
    },
    "id": "fCbXYM49U6wp",
    "outputId": "254f8679-0434-43c4-8ae1-7aac13f7048a"
   },
   "outputs": [],
   "source": [
    "arr[5:]"
   ]
  },
  {
   "cell_type": "code",
   "execution_count": null,
   "metadata": {
    "colab": {
     "base_uri": "https://localhost:8080/"
    },
    "executionInfo": {
     "elapsed": 404,
     "status": "ok",
     "timestamp": 1709722363732,
     "user": {
      "displayName": "Wajahat Ahmed",
      "userId": "11071514131681018838"
     },
     "user_tz": -300
    },
    "id": "caXmxYdaU6wp",
    "outputId": "fafde6e9-e599-4c76-a2f0-88ac1f00965f"
   },
   "outputs": [],
   "source": [
    "arr[5:8]"
   ]
  },
  {
   "cell_type": "code",
   "execution_count": null,
   "metadata": {
    "colab": {
     "base_uri": "https://localhost:8080/"
    },
    "executionInfo": {
     "elapsed": 437,
     "status": "ok",
     "timestamp": 1709722392172,
     "user": {
      "displayName": "Wajahat Ahmed",
      "userId": "11071514131681018838"
     },
     "user_tz": -300
    },
    "id": "WIec54tQU6wt",
    "outputId": "30ceba65-102f-43b9-9da3-666c678af11e"
   },
   "outputs": [],
   "source": [
    "arr[-5:]"
   ]
  },
  {
   "cell_type": "code",
   "execution_count": null,
   "metadata": {
    "colab": {
     "base_uri": "https://localhost:8080/"
    },
    "executionInfo": {
     "elapsed": 410,
     "status": "ok",
     "timestamp": 1709722463211,
     "user": {
      "displayName": "Wajahat Ahmed",
      "userId": "11071514131681018838"
     },
     "user_tz": -300
    },
    "id": "AXfOSp9tU6wt",
    "outputId": "d1071758-ee3c-4108-c6ff-926e3e2f0aae"
   },
   "outputs": [],
   "source": [
    "arr = np.arange(30).reshape(5,6)\n",
    "print(arr)"
   ]
  },
  {
   "cell_type": "markdown",
   "metadata": {
    "id": "Yss_OHESU6wt"
   },
   "source": [
    "### np.ones():\n",
    "Creates a matrix of specified dimension containing only ones.\n",
    "\n",
    "##### EXAMPLE:\n",
    "arr = np.ones((2,4))<BR>\n",
    "print(arr)"
   ]
  },
  {
   "cell_type": "code",
   "execution_count": null,
   "metadata": {
    "colab": {
     "base_uri": "https://localhost:8080/"
    },
    "executionInfo": {
     "elapsed": 324,
     "status": "ok",
     "timestamp": 1708810367016,
     "user": {
      "displayName": "Wajahat Ahmed",
      "userId": "11071514131681018838"
     },
     "user_tz": -300
    },
    "id": "HB3ip2vXU6wu",
    "outputId": "2a8e5758-8f65-45e7-ab8a-0d508ecc89a0"
   },
   "outputs": [],
   "source": [
    "arr = np.ones((2,4))\n",
    "print(arr)"
   ]
  },
  {
   "cell_type": "markdown",
   "metadata": {
    "id": "OHvqhUraU6wu"
   },
   "source": [
    "### np.zeros():\n",
    "Creates a matrix of specified dimensions containing only zeroes.\n",
    "\n",
    "##### EXAMPLE:\n",
    "c = np.zeros([3, 3]) <BR>\n",
    "print(c)"
   ]
  },
  {
   "cell_type": "code",
   "execution_count": null,
   "metadata": {
    "colab": {
     "base_uri": "https://localhost:8080/"
    },
    "executionInfo": {
     "elapsed": 343,
     "status": "ok",
     "timestamp": 1708810445882,
     "user": {
      "displayName": "Wajahat Ahmed",
      "userId": "11071514131681018838"
     },
     "user_tz": -300
    },
    "id": "Bm2UW1CvU6wu",
    "outputId": "0d558784-b748-4329-a87e-4b9945169b2f"
   },
   "outputs": [],
   "source": [
    "import numpy\n",
    "c = numpy.zeros((3, 3)) #coloumn,rows\n",
    "print(c)"
   ]
  },
  {
   "cell_type": "markdown",
   "metadata": {
    "id": "4u1GMG3GU6wu"
   },
   "source": [
    "### np.random\n",
    "By using the randn function from the numpy.random package an array of a specified dimension can be initialized with random values.\n",
    "\n",
    "##### EXAMPLE:\n",
    "arr = np.random.randn(3,4)\n",
    "arr"
   ]
  },
  {
   "cell_type": "code",
   "execution_count": null,
   "metadata": {
    "colab": {
     "base_uri": "https://localhost:8080/"
    },
    "executionInfo": {
     "elapsed": 782,
     "status": "ok",
     "timestamp": 1709722505474,
     "user": {
      "displayName": "Wajahat Ahmed",
      "userId": "11071514131681018838"
     },
     "user_tz": -300
    },
    "id": "dIURBtRxU6wv",
    "outputId": "ab5275a1-181f-46be-e658-90170e946e8c"
   },
   "outputs": [],
   "source": [
    "arr = np.random.randn(3,4)\n",
    "print(arr)\n"
   ]
  },
  {
   "cell_type": "markdown",
   "metadata": {
    "id": "I2ujcN3CU6wv"
   },
   "source": [
    "### MATRIX OPERATIONS:\n",
    "\n",
    "import numpy<br>\n",
    "#### Two matrices are initialized by value\n",
    "x = numpy.array([[1, 2], [4, 5]])<br>\n",
    "y = numpy.array([[7, 8], [9, 10]])<br>\n",
    "####  add() is used to add matrices\n",
    "print (\"Addition of two matrices: \")<br>\n",
    "print (numpy.add(x,y))<br>\n",
    "#### subtract() is used to subtract matrices\n",
    "print (\"Subtraction of two matrices : \")<br>\n",
    "print (numpy.subtract(x,y))<br>\n",
    "#### divide() is used to divide matrices\n",
    "print (\"Matrix Division : \")<br>\n",
    "print (numpy.divide(x,y))<br>\n",
    "#### multiply() is used to multiply matrices\n",
    "print (\"Multiplication of two matrices: \")<br>\n",
    "print (numpy.multiply(x,y))<br>\n",
    "#### using \"T\" to transpose the matrix\n",
    "print (\"Matrix transposition : \")<br>\n",
    "print (x.T)<br>"
   ]
  },
  {
   "cell_type": "code",
   "execution_count": null,
   "metadata": {
    "id": "3tcBYKDiU6wv"
   },
   "outputs": [],
   "source": [
    "import numpy\n",
    "#Two matrices are initialized by value\n",
    "x = numpy.array([[1, 2], [4, 5]])\n",
    "y = numpy.array([[7, 8], [9, 10]])\n",
    "\n",
    "#add() is used to add matrices\n",
    "print (\"Addition of two matrices: \")\n",
    "print (numpy.add(x,y))\n",
    "\n",
    "#subtract() is used to subtract matrices\n",
    "print (\"Subtraction of two matrices : \")\n",
    "print (numpy.subtract(x,y))\n",
    "\n",
    "#divide() is used to divide matrices\n",
    "print (\"Matrix Division : \")\n",
    "print (numpy.divide(x,y))\n",
    "\n",
    "#multiply() is used to multiply matrices\n",
    "print (\"Multiplication of two matrices: \")\n",
    "print (numpy.multiply(x,y))\n",
    "\n",
    "#using \"T\" to transpose the matrix\n",
    "print (\"Matrix transposition : \")\n",
    "print (x.T)"
   ]
  },
  {
   "cell_type": "markdown",
   "metadata": {
    "id": "dseluf5rU6ww"
   },
   "source": [
    "## (B) PANDAS\n",
    "\n",
    "### CSV files to dataframe\n",
    "> CSV (Comma Separated Files) files are perhaps one of the most widely used ways of creating a dataframe. We can easily read in a CSV, or any delimited file (like TSV), using pandas and convert into a dataframe.\n",
    "\n",
    "data = pd.read_csv('Data.csv')\n",
    "\n",
    "data"
   ]
  },
  {
   "cell_type": "code",
   "execution_count": 78,
   "metadata": {
    "colab": {
     "base_uri": "https://localhost:8080/",
     "height": 321
    },
    "executionInfo": {
     "elapsed": 592,
     "status": "error",
     "timestamp": 1709722573818,
     "user": {
      "displayName": "Wajahat Ahmed",
      "userId": "11071514131681018838"
     },
     "user_tz": -300
    },
    "id": "Ejoo3-hwU6ww",
    "outputId": "e0366cc4-83f9-4616-cabd-f060e649688a"
   },
   "outputs": [
    {
     "ename": "ModuleNotFoundError",
     "evalue": "No module named 'pandas'",
     "output_type": "error",
     "traceback": [
      "\u001b[1;31m---------------------------------------------------------------------------\u001b[0m",
      "\u001b[1;31mModuleNotFoundError\u001b[0m                       Traceback (most recent call last)",
      "Cell \u001b[1;32mIn[78], line 1\u001b[0m\n\u001b[1;32m----> 1\u001b[0m \u001b[38;5;28;01mimport\u001b[39;00m \u001b[38;5;21;01mpandas\u001b[39;00m \u001b[38;5;28;01mas\u001b[39;00m \u001b[38;5;21;01mpd\u001b[39;00m\n\u001b[0;32m      2\u001b[0m data \u001b[38;5;241m=\u001b[39m pd\u001b[38;5;241m.\u001b[39mread_csv(\u001b[38;5;124m'\u001b[39m\u001b[38;5;124mData.csv\u001b[39m\u001b[38;5;124m'\u001b[39m)\n\u001b[0;32m      3\u001b[0m data\n",
      "\u001b[1;31mModuleNotFoundError\u001b[0m: No module named 'pandas'"
     ]
    }
   ],
   "source": [
    "import pandas as pd\n",
    "data = pd.read_csv('Data.csv')\n",
    "data"
   ]
  },
  {
   "cell_type": "markdown",
   "metadata": {
    "id": "ZMeiN-vnU6ww"
   },
   "source": [
    "### Selecting pandas data using “iloc”\n",
    "\n",
    "The iloc indexer for Pandas Dataframe is used for integer-location based indexing / selection by position.\n",
    "\n",
    "The iloc indexer syntax is data.iloc[<row selection>, <column selection>], which is sure to be a source of confusion for R users. “iloc” in pandas is used to select rows and columns by number, in the order that they appear in the data frame. You can imagine that each row has a row number from 0 to the total rows (data.shape[0])  and iloc[] allows selections based on these numbers. The same applies for columns (ranging from 0 to data.shape[1] )\n",
    "\n",
    "There are two “arguments” to iloc – a row selector, and a column selector.  For example:\n",
    "\n",
    "### Single selections using iloc and DataFrame\n",
    "\n",
    "##### Rows:\n",
    "data.iloc[0] # first row of data frame <br>\n",
    "data.iloc[1] # second row of data frame <br>\n",
    "data.iloc[-1] # last row of data frame <br>\n",
    "###### Columns:\n",
    "data.iloc[:,0] # first column of data frame <br>\n",
    "data.iloc[:,1] # second column of data frame <br>\n",
    "data.iloc[:,-1] # last column of data frame <br>"
   ]
  },
  {
   "cell_type": "code",
   "execution_count": null,
   "metadata": {
    "id": "tGSY47n2U6ww"
   },
   "outputs": [],
   "source": [
    "data.iloc[:,-1] # last column of data frame"
   ]
  },
  {
   "cell_type": "markdown",
   "metadata": {
    "id": "ewyq5Nj1U6wx"
   },
   "source": [
    "### Multiple row and column selections using iloc and DataFrame\n",
    "data.iloc[0:5] # first five rows of  <br>\n",
    "data.iloc[:, 0:2] # first two columns of data frame with all rows <br>\n",
    "data.iloc[[0,3,6,24], [0,5,6]] # 1st, 4th, 7th, 25th row + 1st 6th 7th columns. <br>\n",
    "data.iloc[0:5, 5:8] # first 5 rows and 5th, 6th, 7th columns of data frame (county -> phone1)."
   ]
  },
  {
   "cell_type": "code",
   "execution_count": null,
   "metadata": {
    "id": "Mrx3DW9WU6wx"
   },
   "outputs": [],
   "source": [
    "data.iloc[0:5] # first five rows of"
   ]
  },
  {
   "cell_type": "code",
   "execution_count": null,
   "metadata": {
    "id": "3iqDa2Z1U6wy"
   },
   "outputs": [],
   "source": [
    "data.iloc[:, 0:2] # first two columns of data frame with all rows"
   ]
  },
  {
   "cell_type": "code",
   "execution_count": null,
   "metadata": {
    "id": "oGCzDw27U6wy"
   },
   "outputs": [],
   "source": [
    "data"
   ]
  },
  {
   "cell_type": "code",
   "execution_count": null,
   "metadata": {
    "id": "oFVJpVzoU6wy"
   },
   "outputs": [],
   "source": [
    "data.iloc[[0,3,6],[0,2]] # 1st, 4th, 7th row + 1st 4th columns."
   ]
  },
  {
   "cell_type": "code",
   "execution_count": null,
   "metadata": {
    "id": "kOz-P2XpU6wy"
   },
   "outputs": [],
   "source": [
    "data.iloc[0:5, 1:3] # first 5 rows and 2nd, 3rd, 4th columns of data frame."
   ]
  },
  {
   "cell_type": "markdown",
   "metadata": {
    "id": "bt_eTr8KU6wy"
   },
   "source": [
    "## (C) Matplotlib\n",
    "\n",
    "Matplotlib is one of the most popular Python packages used for data visualization. It is a cross-platform library for making 2D plots from data in arrays. It provides an object-oriented API that helps in embedding plots in applications using Python GUI toolkits such as PyQt, WxPythonotTkinter. It can be used in Python and IPython shells, Jupyter notebook and web application servers also.\n",
    "\n",
    "Run the following command:\n",
    "\n",
    "%matplotlib inline"
   ]
  },
  {
   "cell_type": "code",
   "execution_count": null,
   "metadata": {
    "id": "C0iARos9U6wz"
   },
   "outputs": [],
   "source": [
    "%matplotlib inline"
   ]
  },
  {
   "cell_type": "markdown",
   "metadata": {
    "id": "zaBDKStfU6wz"
   },
   "source": [
    "##### EXAMPLE\n",
    "\n",
    "import numpy as np <br>\n",
    "from matplotlib import pyplot as plt <br>\n",
    "\n",
    "x = np.arange(1,11) <br>\n",
    "y = 2 * x + 5 <br>\n",
    "plt.title(\"Matplotlib demo\") <br>\n",
    "plt.xlabel(\"x axis caption\") <br>\n",
    "plt.ylabel(\"y axis caption\") <br>\n",
    "plt.plot(x,y) <br>\n",
    "plt.show() <br>"
   ]
  },
  {
   "cell_type": "code",
   "execution_count": null,
   "metadata": {
    "id": "eANG1eD8U6wz"
   },
   "outputs": [],
   "source": [
    "import numpy as np\n",
    "from matplotlib import pyplot as plt\n",
    "\n",
    "x = np.arange(1,11)\n",
    "y = 2 * x + 5\n",
    "plt.title(\"Matplotlib demo\")\n",
    "plt.xlabel(\"x axis caption\")\n",
    "plt.ylabel(\"y axis caption\")\n",
    "plt.plot(x,y)\n",
    "plt.show()"
   ]
  },
  {
   "cell_type": "code",
   "execution_count": null,
   "metadata": {
    "id": "VaZE6_yYKrGa"
   },
   "outputs": [],
   "source": [
    "import pandas as pd\n",
    "df = pd.read_csv('Data.csv')\n"
   ]
  },
  {
   "cell_type": "code",
   "execution_count": null,
   "metadata": {
    "id": "hVcjv5DzKryY"
   },
   "outputs": [],
   "source": []
  },
  {
   "cell_type": "markdown",
   "metadata": {
    "id": "7bRS6q5KKsTZ"
   },
   "source": []
  }
 ],
 "metadata": {
  "colab": {
   "provenance": []
  },
  "kernelspec": {
   "display_name": "Python 3 (ipykernel)",
   "language": "python",
   "name": "python3"
  },
  "language_info": {
   "codemirror_mode": {
    "name": "ipython",
    "version": 3
   },
   "file_extension": ".py",
   "mimetype": "text/x-python",
   "name": "python",
   "nbconvert_exporter": "python",
   "pygments_lexer": "ipython3",
   "version": "3.12.3"
  }
 },
 "nbformat": 4,
 "nbformat_minor": 4
}
